{
 "cells": [
  {
   "cell_type": "code",
   "execution_count": 19,
   "id": "ca23ff06",
   "metadata": {},
   "outputs": [],
   "source": [
    "from langgraph.graph import StateGraph ,START ,END\n",
    "from typing import TypedDict\n",
    "from dotenv import load_dotenv\n",
    "from langchain_google_genai import ChatGoogleGenerativeAI as CGA\n",
    "import re"
   ]
  },
  {
   "cell_type": "code",
   "execution_count": 20,
   "id": "a7f72c19",
   "metadata": {},
   "outputs": [
    {
     "data": {
      "text/plain": [
       "True"
      ]
     },
     "execution_count": 20,
     "metadata": {},
     "output_type": "execute_result"
    }
   ],
   "source": [
    "load_dotenv()"
   ]
  },
  {
   "cell_type": "code",
   "execution_count": 21,
   "id": "2a6ff102",
   "metadata": {},
   "outputs": [],
   "source": [
    "model = CGA(model = 'gemini-2.0-flash')"
   ]
  },
  {
   "cell_type": "code",
   "execution_count": 22,
   "id": "14c7428e",
   "metadata": {},
   "outputs": [],
   "source": [
    "class llmstate(TypedDict):\n",
    "    topic : str\n",
    "    outline : str\n",
    "    blog :str\n",
    "    score : str"
   ]
  },
  {
   "cell_type": "code",
   "execution_count": 23,
   "id": "addc9605",
   "metadata": {},
   "outputs": [],
   "source": [
    "def createoutline(state : llmstate) -> llmstate:\n",
    "    topic = state['topic']\n",
    "    prompt = f\"Generate a detailed outline for a blog for this topic -> {topic}\"\n",
    "    outline = model.invoke(prompt)\n",
    "    state['outline'] = outline.content\n",
    "    return state"
   ]
  },
  {
   "cell_type": "code",
   "execution_count": 24,
   "id": "96f230a9",
   "metadata": {},
   "outputs": [],
   "source": [
    "def createblog(state : llmstate) -> llmstate:\n",
    "    topic = state['topic']\n",
    "    outline = state['outline']\n",
    "    prompt = f'Write a detailed informative blog , you are given topic and outline\\n {topic} {outline}'\n",
    "    blog = model.invoke(prompt)\n",
    "    state['blog'] = blog.content\n",
    "    return state"
   ]
  },
  {
   "cell_type": "code",
   "execution_count": 25,
   "id": "8830f5c4",
   "metadata": {},
   "outputs": [],
   "source": [
    "def evaluator(state : llmstate) -> llmstate:\n",
    "    topic = state['topic']\n",
    "    outline = state['outline']\n",
    "    blog = state['blog']\n",
    "    prompt = f\"\"\"Give only a number between 0 and 100 as score.\n",
    "Do not provide explanation or justification.\n",
    "Score the blog based on the topic and outline.\n",
    "\n",
    "TOPIC: {topic}\n",
    "OUTLINE: {outline}\n",
    "BLOG: {blog}\n",
    "\"\"\"\n",
    "\n",
    "    score_response = model.invoke(prompt)\n",
    "    raw_output = score_response.content\n",
    "\n",
    "    # Extract the first number between 0 and 100\n",
    "    match = re.search(r'\\b(100|[1-9]?[0-9])\\b', raw_output)\n",
    "    score = int(match.group(0)) if match else None\n",
    "\n",
    "    state['score'] = score\n",
    "\n",
    "    return state\n"
   ]
  },
  {
   "cell_type": "code",
   "execution_count": 26,
   "id": "50ad9a64",
   "metadata": {},
   "outputs": [],
   "source": [
    "#defining the graph\n",
    "graph = StateGraph(llmstate)\n",
    "\n",
    "#defining the node\n",
    "graph.add_node('createoutline' , createoutline)\n",
    "graph.add_node('blogcreated' , createblog)\n",
    "graph.add_node('Evaluator' , evaluator)\n",
    "\n",
    "#joining the edges\n",
    "graph.add_edge(START , 'createoutline')\n",
    "graph.add_edge('createoutline' , 'blogcreated')\n",
    "graph.add_edge('blogcreated' ,'Evaluator')\n",
    "graph.add_edge('Evaluator' , END)\n",
    "\n",
    "#compiling\n",
    "workflow = graph.compile()"
   ]
  },
  {
   "cell_type": "code",
   "execution_count": 27,
   "id": "7eab3253",
   "metadata": {},
   "outputs": [],
   "source": [
    "inital_state = {'topic' : 'Rise of trading in Silk route'}\n",
    "final_state = workflow.invoke(inital_state)\n"
   ]
  },
  {
   "cell_type": "code",
   "execution_count": 31,
   "id": "8d968d14",
   "metadata": {},
   "outputs": [
    {
     "name": "stdout",
     "output_type": "stream",
     "text": [
      "## The Rise of Trading in the Silk Road: A Journey Through History and Commerce\n",
      "\n",
      "**(I. Introduction: The Silk Road - More Than Just Silk)**\n",
      "\n",
      "**(A. Hook)** Imagine holding a piece of shimmering silk, woven with intricate designs and dyed with vibrant colors. This fabric, once worth more than its weight in gold, traveled thousands of miles across treacherous landscapes, carrying with it not only its beauty but also the seeds of cultural exchange and economic prosperity. This is the legacy of the Silk Road.\n",
      "\n",
      "**(B. Defining the Silk Road)** The Silk Road wasn't a single road, but rather a sprawling network of trade routes that connected the East and West for centuries. Spanning from East Asia, primarily China, across Central Asia, the Middle East, and ultimately reaching the Mediterranean and even Europe, this intricate web facilitated the flow of goods, ideas, and cultures.\n",
      "\n",
      "**(C. Beyond Silk)** While silk was undoubtedly a prized commodity, the Silk Road was far more than just a conduit for this luxurious fabric. Spices like cinnamon and pepper from India, tea and porcelain from China, jade from Central Asia, and horses from the steppes were all highly sought-after goods. Precious metals, paper, and even religious beliefs traveled along these routes, shaping civilizations and influencing the course of history.\n",
      "\n",
      "**(D. Thesis Statement)** This blog post will delve into the captivating historical rise of trading along the Silk Road, exploring the key factors that fueled its development, from the early foundations laid by nomadic peoples and burgeoning empires, to its golden age under powerful dynasties and the eventual decline that paved the way for new avenues of global commerce.\n",
      "\n",
      "**(II. Precursors to the Silk Road: Laying the Foundation (Pre-2nd Century BCE))**\n",
      "\n",
      "**(A. Early Trade Networks)** Long before the Han Dynasty formally established the Silk Road, evidence suggests that trade between different regions of Eurasia was already flourishing. Archaeological discoveries of goods originating from distant lands point to a complex network of interactions. For instance, artifacts from Mesopotamia have been found in the Indus Valley, indicating early trade links between these ancient civilizations.\n",
      "\n",
      "**(B. The Role of Nomadic Peoples)** Nomadic groups played a crucial role in these early trade networks. Their intimate knowledge of the terrain, coupled with their mobility, made them ideal intermediaries. They acted as crucial links between settled agricultural societies, facilitating the exchange of goods and information across vast distances. The Scythians, for example, were known for their horsemanship and their ability to connect different regions of Central Asia, trading in horses, furs, and other valuable commodities.\n",
      "\n",
      "**(C. Growth of Early Empires)** The rise of powerful empires like the Achaemenid Persian Empire (550-330 BCE) and the Mauryan Empire in India (322-185 BCE) further fostered a more stable environment conducive to trade. These empires established standardized currencies, built roads, and constructed caravanserais (roadside inns) to accommodate merchants and travelers. The Persian Royal Road, spanning over 1,600 miles, was a marvel of engineering that significantly aided communication and trade across the empire.\n",
      "\n",
      "**(III. The Han Dynasty and the Formalization of the Silk Road (2nd Century BCE - 2nd Century CE))**\n",
      "\n",
      "**(A. The Han Dynasty's Expansion)** The Han Dynasty (206 BCE - 220 CE) in China played a pivotal role in formalizing the Silk Road. Driven by a desire for resources, particularly horses needed for their military campaigns against the Xiongnu nomads, the Han Dynasty embarked on westward expansion. The diplomatic missions of Zhang Qian, sent by Emperor Wu in the 2nd century BCE, proved instrumental in understanding the West and establishing trade routes to secure alliances and resources.\n",
      "\n",
      "**(B. The Growth of Silk Production and Demand)** The increasing demand for silk in the West, particularly in the Roman Empire, fueled the growth of the Silk Road. Silk production in China was a closely guarded secret, and the fabric was highly valued as a luxury good. Its shimmering texture and vibrant colors made it a symbol of wealth and status. The Han Dynasty controlled and regulated the silk trade, ensuring its quality and maintaining its value.\n",
      "\n",
      "**(C. Infrastructure Development under the Han)** To facilitate safe and efficient trade, the Han Dynasty invested heavily in infrastructure development. Roads were constructed and maintained, fortifications were built to protect travelers from bandits, and postal stations were established to ensure efficient communication. Garrison towns and trading posts sprung up along the routes, providing essential services and security for merchants.\n",
      "\n",
      "**(IV. The Silk Road in its Golden Age (3rd Century CE - 13th Century CE))**\n",
      "\n",
      "**(A. The Spread of Buddhism)** The Silk Road facilitated the spread of Buddhism from India to China and beyond. Buddhist monks and missionaries traveled along the routes, carrying with them the teachings of the Buddha. They established monasteries and temples along the way, serving as centers of learning and cultural exchange. The Mogao Caves near Dunhuang, with their stunning Buddhist murals and scriptures, stand as a testament to the influence of Buddhism on the Silk Road.\n",
      "\n",
      "**(B. The Rise of New Empires and Dynasties)** The rise of new empires, such as the Sasanian Empire in Persia (224-651 CE), also had a significant impact on the Silk Road. The Sasanians controlled a vast territory and actively promoted trade and cultural exchange. They built bridges, improved roads, and established trading centers, facilitating the flow of goods and ideas between East and West.\n",
      "\n",
      "**(C. The Tang Dynasty and the Height of Cultural Exchange)** The Tang Dynasty (618-907 CE) in China is often considered the golden age of the Silk Road. The Tang Dynasty was a period of great prosperity and cultural openness. The emperors welcomed foreign merchants and travelers, fostering a cosmopolitan atmosphere in cities like Chang'an (modern-day Xi'an), the eastern terminus of the Silk Road. Chang'an became a melting pot of cultures, attracting merchants, artists, and religious scholars from all over the world.\n",
      "\n",
      "**(D. The Islamic Golden Age and its Impact)** The Islamic Golden Age (8th-13th centuries CE) also contributed significantly to the growth of trade and knowledge along the Silk Road. Islamic scholars preserved and translated ancient Greek and Roman texts, transmitting valuable knowledge to the East. They also developed new technologies and trade practices, such as the use of credit and banking, which facilitated trade and commerce.\n",
      "\n",
      "**(E. The Mongol Empire and Pax Mongolica)** The Mongol Empire, established by Genghis Khan in the 13th century, unified much of Eurasia and brought about a period of relative peace and stability known as the \"Pax Mongolica\" (Mongol Peace). The Mongols encouraged trade and protected merchants, allowing goods and ideas to flow freely across their vast empire. This facilitated the exchange of knowledge and technology between East and West.\n",
      "\n",
      "**(F. Key Trading Cities & Oasis Towns)** Several cities along the Silk Road flourished as centers of trade, culture, and learning. Samarkand, located in present-day Uzbekistan, was a major trading hub and a center of Islamic scholarship. Dunhuang, situated at the crossroads of several trade routes, was a vital oasis town and a center of Buddhist art and culture. Kashgar, in present-day Xinjiang, China, was a bustling market town where merchants from different regions gathered to trade their goods. Baghdad, the capital of the Abbasid Caliphate, was a major center of trade, learning, and culture during the Islamic Golden Age.\n",
      "\n",
      "**(V. The Decline of the Silk Road (14th Century CE - 15th Century CE))**\n",
      "\n",
      "**(A. Factors Contributing to Decline)** Several factors contributed to the decline of the Silk Road in the 14th and 15th centuries. The fragmentation of the Mongol Empire led to political instability and the disruption of trade routes. The rise of maritime trade routes, with their lower costs and faster transportation, presented a formidable challenge to the Silk Road. The Black Death, which ravaged Europe and Asia in the mid-14th century, also had a devastating impact on trade and population.\n",
      "\n",
      "**(B. Rise of Maritime Trade)** Advancements in shipbuilding and navigation led to the development of maritime trade routes that connected Europe with Asia. These routes offered several advantages over the Silk Road, including lower costs and faster transportation. European powers, such as Portugal and Spain, actively sought to establish maritime trade routes to bypass the Silk Road and access the riches of the East directly.\n",
      "\n",
      "**(C. Political Instability and Conflicts)** Political instability and conflicts plagued the Silk Road region during this period. The collapse of the Mongol Empire led to a power vacuum, and various local rulers fought for control of the territory. These conflicts disrupted trade and made it more dangerous for merchants to travel along the Silk Road. The Timurid Empire, though initially promoting trade, eventually fragmented, further contributing to the instability.\n",
      "\n",
      "**(VI. Legacy and Modern Relevance of the Silk Road)**\n",
      "\n",
      "**(A. Enduring Cultural Exchange)** Despite its decline, the Silk Road left a lasting legacy of cultural exchange. The exchange of ideas, technologies, and artistic styles along the Silk Road continues to influence art, music, literature, and cuisine to this day. The spread of Buddhism, the transmission of scientific knowledge from the Islamic world, and the adoption of Chinese technologies like papermaking in Europe are just a few examples of the enduring cultural impact of the Silk Road.\n",
      "\n",
      "**(B. Economic and Political Implications Today)** The Silk Road remains relevant in the modern context of globalization and international trade. China's \"Belt and Road Initiative\" (BRI), a massive infrastructure development project aimed at connecting China with the rest of Asia, Europe, and Africa, draws inspiration from the historical Silk Road. The BRI has the potential to reshape global trade and geopolitics, but it also raises concerns about debt sustainability and geopolitical influence.\n",
      "\n",
      "**(C. The Silk Road as a Symbol of Interconnectedness)** The Silk Road stands as a powerful symbol of interconnectedness and cultural exchange between different civilizations. It reminds us that despite our differences, we are all part of a global community. By studying the history of the Silk Road, we can gain a better understanding of the complex forces that have shaped our world and promote international cooperation and understanding. Preserving the cultural heritage of the Silk Road, including its archaeological sites, historical monuments, and cultural traditions, is essential for future generations.\n",
      "\n",
      "**(VII. Conclusion: A Timeless Legacy)**\n",
      "\n",
      "**(A. Recap of Key Points)** From its humble beginnings as a network of early trade routes to its golden age under the Tang Dynasty and the Pax Mongolica, the Silk Road played a pivotal role in shaping global history. It facilitated the exchange of goods, ideas, and cultures between East and West, leaving a lasting legacy that continues to resonate today.\n",
      "\n",
      "**(B. Emphasize the Significance of the Silk Road)** The Silk Road was more than just a trade route; it was a bridge between civilizations, a catalyst for innovation, and a testament to the power of human interaction. Its impact on global history and culture is undeniable.\n",
      "\n",
      "**(C. Final Thought-Provoking Statement)** As we navigate an increasingly interconnected world, the lessons of the Silk Road – the importance of trade, cultural exchange, and mutual understanding – remain as relevant as ever. The spirit of the Silk Road, a spirit of openness, collaboration, and shared prosperity, continues to inspire us to build a better future for all.\n",
      "\n",
      "**(D. Call to Action)** Intrigued by the Silk Road? Delve deeper into its fascinating history! Visit museums showcasing Silk Road artifacts, explore captivating books and documentaries, or even plan a journey to experience the historical sites and vibrant cultures along the ancient routes. The journey of discovery awaits!\n"
     ]
    }
   ],
   "source": [
    "print(final_state['blog'])"
   ]
  },
  {
   "cell_type": "code",
   "execution_count": 30,
   "id": "10539551",
   "metadata": {},
   "outputs": [
    {
     "name": "stdout",
     "output_type": "stream",
     "text": [
      "92\n"
     ]
    }
   ],
   "source": [
    "print(final_state['score'])"
   ]
  }
 ],
 "metadata": {
  "kernelspec": {
   "display_name": "myvenv (3.13.2)",
   "language": "python",
   "name": "python3"
  },
  "language_info": {
   "codemirror_mode": {
    "name": "ipython",
    "version": 3
   },
   "file_extension": ".py",
   "mimetype": "text/x-python",
   "name": "python",
   "nbconvert_exporter": "python",
   "pygments_lexer": "ipython3",
   "version": "3.13.2"
  }
 },
 "nbformat": 4,
 "nbformat_minor": 5
}
