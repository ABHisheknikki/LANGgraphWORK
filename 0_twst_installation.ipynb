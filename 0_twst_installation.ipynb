{
 "cells": [
  {
   "cell_type": "code",
   "execution_count": 6,
   "id": "a11798b1",
   "metadata": {},
   "outputs": [],
   "source": [
    "from langgraph.graph import StateGraph ,START ,END\n",
    "from typing import TypedDict"
   ]
  },
  {
   "cell_type": "code",
   "execution_count": 18,
   "id": "94102af0",
   "metadata": {},
   "outputs": [],
   "source": [
    "# define the state\n",
    "class BMIState(TypedDict):\n",
    "    weight_kg : float\n",
    "    height_m  : float\n",
    "    bmi : float\n",
    "    category : str"
   ]
  },
  {
   "cell_type": "code",
   "execution_count": 8,
   "id": "2b44f888",
   "metadata": {},
   "outputs": [],
   "source": [
    "def calculateBMI(state : BMIState) -> BMIState:\n",
    "    weight = state['weight_kg'] \n",
    "    height = state['height_m']\n",
    "    state['bmi'] = weight/(height**2)\n",
    "    return state"
   ]
  },
  {
   "cell_type": "code",
   "execution_count": 19,
   "id": "4e0ca7f8",
   "metadata": {},
   "outputs": [],
   "source": [
    "def categoryFALL(state : BMIState) -> BMIState:\n",
    "    bmi = state['bmi']\n",
    "    if bmi < 18.5:\n",
    "        state['category'] = 'Underweight'\n",
    "    elif bmi >=18.5 and bmi < 25:\n",
    "        state['category'] = 'Normal'\n",
    "    elif bmi>=25 and bmi < 30:\n",
    "        state['category'] = 'Overweight'\n",
    "    else:\n",
    "        state['category'] = 'Obese'\n",
    "    \n",
    "    return state"
   ]
  },
  {
   "cell_type": "code",
   "execution_count": 20,
   "id": "9162ad82",
   "metadata": {},
   "outputs": [],
   "source": [
    "#define your graph\n",
    "graph = StateGraph(BMIState)\n",
    "\n",
    "#add node to your graph\n",
    "graph.add_node('calBMI', calculateBMI )\n",
    "graph.add_node('predictcategory' , categoryFALL)\n",
    "\n",
    "#add edges to your graph\n",
    "graph.add_edge(START , 'calBMI')\n",
    "graph.add_edge('calBMI' , 'predictcategory')\n",
    "graph.add_edge('predictcategory' , END)\n",
    "\n",
    "#compile graph\n",
    "workflow = graph.compile() \n"
   ]
  },
  {
   "cell_type": "code",
   "execution_count": 22,
   "id": "763678d2",
   "metadata": {},
   "outputs": [
    {
     "name": "stdout",
     "output_type": "stream",
     "text": [
      "{'weight_kg': 70, 'height_m': 1.75, 'bmi': 22.857142857142858, 'category': 'Normal'}\n"
     ]
    }
   ],
   "source": [
    "#execute the graph\n",
    "\n",
    "inital_state = {'weight_kg' : 70 , 'height_m' : 1.75}\n",
    "final_state = workflow.invoke(inital_state)\n",
    "print(final_state)"
   ]
  },
  {
   "cell_type": "code",
   "execution_count": 21,
   "id": "0b9548b3",
   "metadata": {},
   "outputs": [
    {
     "data": {
      "image/png": "[encoded data removed]",
      "text/plain": [
       "<IPython.core.display.Image object>"
      ]
     },
     "execution_count": 21,
     "metadata": {},
     "output_type": "execute_result"
    }
   ],
   "source": [
    "from IPython.display import Image\n",
    "Image(workflow.get_graph().draw_mermaid_png())"
   ]
  },
  {
   "cell_type": "code",
   "execution_count": null,
   "id": "cf75fd75",
   "metadata": {},
   "outputs": [],
   "source": []
  }
 ],
 "metadata": {
  "kernelspec": {
   "display_name": "myvenv (3.13.2)",
   "language": "python",
   "name": "python3"
  },
  "language_info": {
   "codemirror_mode": {
    "name": "ipython",
    "version": 3
   },
   "file_extension": ".py",
   "mimetype": "text/x-python",
   "name": "python",
   "nbconvert_exporter": "python",
   "pygments_lexer": "ipython3",
   "version": "3.13.2"
  }
 },
 "nbformat": 4,
 "nbformat_minor": 5
}
