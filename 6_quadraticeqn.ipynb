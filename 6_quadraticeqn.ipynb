{
 "cells": [
  {
   "cell_type": "code",
   "execution_count": 45,
   "id": "bce05db3",
   "metadata": {},
   "outputs": [],
   "source": [
    "from langgraph.graph import StateGraph , START,END\n",
    "from typing import TypedDict , Literal"
   ]
  },
  {
   "cell_type": "code",
   "execution_count": 46,
   "id": "c2660c7c",
   "metadata": {},
   "outputs": [],
   "source": [
    "class Quadstate(TypedDict):\n",
    "    a : int \n",
    "    b : int \n",
    "    c : int \n",
    "    equation : str\n",
    "    discrim : float\n",
    "    result : str"
   ]
  },
  {
   "cell_type": "code",
   "execution_count": 47,
   "id": "6dfcc673",
   "metadata": {},
   "outputs": [],
   "source": [
    "def show(state : Quadstate):\n",
    "    equation = f'({state['a']})x2 + ({state['b']})x + ({state['c']})'\n",
    "    return {'equation' : equation}\n",
    "\n",
    "def calc(state : Quadstate):\n",
    "    discrim = state['b']**2 - 4*state['a']*state['c']\n",
    "    return {'discrim' : discrim}\n",
    "\n",
    "def real(state : Quadstate):\n",
    "    root1 = (-1*state['b'] - state['discrim']**0.5)/2*state['a']\n",
    "    root2 = (-1*state['b'] + state['discrim']**0.5)/2*state['a']\n",
    "\n",
    "    result = f'Real roots are {root1} and {root2}'\n",
    "    return {'result':result}\n",
    "\n",
    "def repeat(state : Quadstate):\n",
    "    root = (-1*state['b'])/(2*state['a'])\n",
    "    \n",
    "\n",
    "    result = f'Real roots are {root} and {root}'\n",
    "    return {'result':result}\n",
    "\n",
    "def non_real(state : Quadstate):\n",
    "    result = f'No real roots exist'\n",
    "    return {'result' : result}\n",
    "\n",
    "def conditionall(state : Quadstate) -> Literal['realroots', 'repeatedroots', 'nonrealroots']:\n",
    "    if state['discrim'] > 0:\n",
    "        return 'realroots'\n",
    "    elif state['discrim'] == 0:\n",
    "        return 'repeatedroots'\n",
    "    else : \n",
    "        return 'nonrealroots'\n"
   ]
  },
  {
   "cell_type": "code",
   "execution_count": 48,
   "id": "78aa9254",
   "metadata": {},
   "outputs": [],
   "source": [
    "graph = StateGraph(Quadstate)\n",
    "\n",
    "#adding nodes\n",
    "graph.add_node('show_equation',show)\n",
    "graph.add_node('calc_discriminant',calc)\n",
    "graph.add_node('realroots' , real)\n",
    "graph.add_node('nonrealroots' , non_real)\n",
    "graph.add_node('repeatedroots',repeat)\n",
    "\n",
    "#connect edges\n",
    "graph.add_edge(START,'show_equation')\n",
    "graph.add_edge('show_equation' , 'calc_discriminant')\n",
    "graph.add_conditional_edges('calc_discriminant',conditionall)\n",
    "graph.add_edge('realroots',END)\n",
    "graph.add_edge('nonrealroots',END)\n",
    "graph.add_edge('repeatedroots',END)\n",
    "workflow = graph.compile()\n",
    "\n",
    "\n"
   ]
  },
  {
   "cell_type": "code",
   "execution_count": 49,
   "id": "4e3635ca",
   "metadata": {},
   "outputs": [],
   "source": [
    "workflow = graph.compile()"
   ]
  },
  {
   "cell_type": "code",
   "execution_count": 50,
   "id": "bcdecd9a",
   "metadata": {},
   "outputs": [
    {
     "data": {
      "image/png": "[encoded data removed]",
      "text/plain": [
       "<langgraph.graph.state.CompiledStateGraph object at 0x000001660923CB00>"
      ]
     },
     "execution_count": 50,
     "metadata": {},
     "output_type": "execute_result"
    }
   ],
   "source": [
    "workflow"
   ]
  },
  {
   "cell_type": "code",
   "execution_count": 52,
   "id": "bb7fde23",
   "metadata": {},
   "outputs": [
    {
     "data": {
      "text/plain": [
       "{'a': 4,\n",
       " 'b': 32,\n",
       " 'c': 4,\n",
       " 'equation': '(4)x2 + (32)x + (4)',\n",
       " 'discrim': 960,\n",
       " 'result': 'Real roots are -125.96773353931867 and -2.0322664606813277'}"
      ]
     },
     "execution_count": 52,
     "metadata": {},
     "output_type": "execute_result"
    }
   ],
   "source": [
    "initial_state = { 'a':4,'b' : 32, 'c' : 4}\n",
    "workflow.invoke(initial_state)\n"
   ]
  },
  {
   "cell_type": "code",
   "execution_count": null,
   "id": "cf13e87b",
   "metadata": {},
   "outputs": [],
   "source": []
  }
 ],
 "metadata": {
  "kernelspec": {
   "display_name": "myvenv (3.13.2)",
   "language": "python",
   "name": "python3"
  },
  "language_info": {
   "codemirror_mode": {
    "name": "ipython",
    "version": 3
   },
   "file_extension": ".py",
   "mimetype": "text/x-python",
   "name": "python",
   "nbconvert_exporter": "python",
   "pygments_lexer": "ipython3",
   "version": "3.13.2"
  }
 },
 "nbformat": 4,
 "nbformat_minor": 5
}
